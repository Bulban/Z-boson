{
  "cells": [
    {
      "cell_type": "markdown",
      "metadata": {
        "id": "T5wGcwq5lvDa"
      },
      "source": [
        "## <CENTER> Mätning av $Z$-bosonens massa med ATLAS-data\n",
        "______________________________________________"
      ]
    },
    {
      "cell_type": "markdown",
      "metadata": {
        "id": "GO9QjvyflvDc"
      },
      "source": [
        "### Med hjälp av det ni lärt er hittills får ni nu själva mäta $Z$-bosonens massa i med riktig mätdata från protonkollisioner skapade av partikelacceleratorn LHC. Nedan finns lite påbörjade förslag på kodbitar som kan vara användbara. Använd dem om ni vill. Vi finns till hands under labben, så be om hjälp om ni kör fast.\n",
        "\n",
        "### Lycka till!\n",
        "_____________________________________________"
      ]
    },
    {
      "cell_type": "code",
      "execution_count": 1,
      "metadata": {
        "id": "Iln_CvbHlvDc",
        "outputId": "8d244b11-f5a2-4346-fab2-1ab68250dcaf",
        "colab": {
          "base_uri": "https://localhost:8080/"
        }
      },
      "outputs": [
        {
          "output_type": "stream",
          "name": "stdout",
          "text": [
            "Looking in indexes: https://root-experimental-python-wheels.web.cern.ch\n",
            "Collecting ROOT\n",
            "  Downloading https://root-experimental-python-wheels.web.cern.ch/ROOT-0.1a8-cp312-cp312-manylinux_2_28_x86_64.whl.metadata (5.3 kB)\n",
            "Requirement already satisfied: numpy in /usr/local/lib/python3.12/dist-packages (from ROOT) (2.0.2)\n",
            "Downloading https://root-experimental-python-wheels.web.cern.ch/ROOT-0.1a8-cp312-cp312-manylinux_2_28_x86_64.whl (236.7 MB)\n",
            "\u001b[2K   \u001b[90m━━━━━━━━━━━━━━━━━━━━━━━━━━━━━━━━━━━━━━━━\u001b[0m \u001b[32m236.7/236.7 MB\u001b[0m \u001b[31m16.4 MB/s\u001b[0m eta \u001b[36m0:00:00\u001b[0m\n",
            "\u001b[?25hInstalling collected packages: ROOT\n",
            "Successfully installed ROOT-0.1a8\n",
            "Collecting atlasopenmagic\n",
            "  Downloading atlasopenmagic-1.4.2-py3-none-any.whl.metadata (5.2 kB)\n",
            "Requirement already satisfied: pyyaml in /usr/local/lib/python3.12/dist-packages (from atlasopenmagic) (6.0.2)\n",
            "Requirement already satisfied: requests in /usr/local/lib/python3.12/dist-packages (from atlasopenmagic) (2.32.4)\n",
            "Requirement already satisfied: charset_normalizer<4,>=2 in /usr/local/lib/python3.12/dist-packages (from requests->atlasopenmagic) (3.4.3)\n",
            "Requirement already satisfied: idna<4,>=2.5 in /usr/local/lib/python3.12/dist-packages (from requests->atlasopenmagic) (3.10)\n",
            "Requirement already satisfied: urllib3<3,>=1.21.1 in /usr/local/lib/python3.12/dist-packages (from requests->atlasopenmagic) (2.5.0)\n",
            "Requirement already satisfied: certifi>=2017.4.17 in /usr/local/lib/python3.12/dist-packages (from requests->atlasopenmagic) (2025.8.3)\n",
            "Downloading atlasopenmagic-1.4.2-py3-none-any.whl (19 kB)\n",
            "Installing collected packages: atlasopenmagic\n",
            "Successfully installed atlasopenmagic-1.4.2\n"
          ]
        }
      ],
      "source": [
        "# install the ROOT libraries if you're using Google Colab - this usually takes a minute or two\n",
        "# if not we assume we're running in the docker container where it is already available\n",
        "try:\n",
        "    import google.colab\n",
        "    IN_COLAB = True\n",
        "except:\n",
        "    IN_COLAB = False\n",
        "\n",
        "if IN_COLAB:\n",
        "    # Here we install the ROOT libraries and dependencies using a python wheel package\n",
        "    # that is based on an already built version of ROOT\n",
        "    !pip install ROOT -i https://root-experimental-python-wheels.web.cern.ch\n",
        "\n",
        "    # atlasopenmagic is a Python package made to simplify working with ATLAS Open Data\n",
        "    # by providing utilities to manage metadata and URLs for streaming the data.\n",
        "    # This is convenient since you don't need to download the files locally.\n",
        "    !pip install atlasopenmagic\n",
        "\n",
        "    # jsroot is a library to be able to interact with ROOT plots; this is not needed\n",
        "    # and doesn't work in Google Colab for the mooment, so we turn it off.\n",
        "    from ROOT import TCanvas\n",
        "    %jsroot off\n",
        "else:\n",
        "    print(\"Not running the notebook in Google Colab, so assuming ROOT is already available\")"
      ]
    },
    {
      "cell_type": "code",
      "execution_count": 40,
      "metadata": {
        "id": "BC57xbEslvDd"
      },
      "outputs": [],
      "source": [
        "# To use math functions like sqrt\n",
        "import math\n",
        "\n",
        "# In order to use ROOT you need to... what?\n",
        "import ROOT\n",
        "import tqdm\n",
        "import numpy as np\n",
        "\n",
        "# ..."
      ]
    },
    {
      "cell_type": "markdown",
      "metadata": {
        "id": "KFcBdXHolvDf"
      },
      "source": [
        "### Hämta data"
      ]
    },
    {
      "cell_type": "code",
      "execution_count": 3,
      "metadata": {
        "id": "qPIWjvAilvDg",
        "outputId": "285bbbef-89e4-42c8-dc87-2cc7026b1b45",
        "colab": {
          "base_uri": "https://localhost:8080/"
        }
      },
      "outputs": [
        {
          "output_type": "stream",
          "name": "stdout",
          "text": [
            "Available releases:\n",
            "========================================\n",
            "2016e-8tev        2016 Open Data for education release of 8 TeV proton-proton collisions (https://opendata.cern.ch/record/3860).\n",
            "2020e-13tev       2020 Open Data for education release of 13 TeV proton-proton collisions (https://cern.ch/2r7xt).\n",
            "2024r-pp          2024 Open Data for research release for proton-proton collisions (https://opendata.cern.record/80020).\n",
            "2024r-hi          2024 Open Data for research release for heavy-ion collisions (https://opendata.cern.ch/record/80035).\n",
            "2025e-13tev-beta  2025 Open Data for education and outreach beta release for 13 TeV proton-proton collisions(https://opendata.cern.ch/record/93910).\n",
            "2025r-evgen       2025 Open Data for research release for event generation (https://opendata.cern.ch/record/160000).\n",
            "Fetching and caching all metadata for release: 2016e-8tev...\n",
            "Successfully cached 43 datasets.\n",
            "Active release: 2016e-8tev. (Datasets path: REMOTE)\n"
          ]
        },
        {
          "output_type": "execute_result",
          "data": {
            "text/plain": [
              "['root://eospublic.cern.ch//eos/opendata/atlas/OutreachDatasets/2016-07-29/Data/DataEgamma.root',\n",
              " 'root://eospublic.cern.ch//eos/opendata/atlas/OutreachDatasets/2016-07-29/Data/DataMuons.root']"
            ]
          },
          "metadata": {},
          "execution_count": 3
        }
      ],
      "source": [
        "import atlasopenmagic as atom\n",
        "\n",
        "# You can browse through the available releases\n",
        "atom.available_releases()\n",
        "# We want to use the 2016 dataset with 8 TeV\n",
        "atom.set_release('2016e-8tev')\n",
        "# Get the available urls for the 'data' dataset\n",
        "atom.get_urls('data')"
      ]
    },
    {
      "cell_type": "markdown",
      "metadata": {
        "id": "lDs_CGDhlvDh"
      },
      "source": [
        "Detta ger dig två dataset **DataEgamma.root** och **DataMuons.root**, där DataEgamma innehåller händelser med minst en foton och en elektron och DataMuons innehåller händelser med minst en muon."
      ]
    },
    {
      "cell_type": "code",
      "execution_count": 7,
      "metadata": {
        "id": "r-995xNflvDh",
        "outputId": "c2942ca8-e792-4f58-834c-2fc557c257bf",
        "colab": {
          "base_uri": "https://localhost:8080/"
        }
      },
      "outputs": [
        {
          "output_type": "stream",
          "name": "stdout",
          "text": [
            "Opened file: root://eospublic.cern.ch//eos/opendata/atlas/OutreachDatasets/2016-07-29/Data/DataEgamma.root\n",
            "The loaded tree 'mini' contains 7917590 events\n",
            "TNetXNGFile**\t\troot://eospublic.cern.ch//eos/opendata/atlas/OutreachDatasets/2016-07-29/Data/DataEgamma.root\t\n",
            " TNetXNGFile*\t\troot://eospublic.cern.ch//eos/opendata/atlas/OutreachDatasets/2016-07-29/Data/DataEgamma.root\t\n",
            "  KEY: TTree\tmini;1\t4-vectors + variables required for scaling factors\n"
          ]
        }
      ],
      "source": [
        "file_url = \"root://eospublic.cern.ch//eos/opendata/atlas/OutreachDatasets/2016-07-29/Data/DataEgamma.root\"\n",
        "f = ROOT.TFile.Open(file_url)\n",
        "print(\"Opened file:\", f.GetName())\n",
        "\n",
        "# List the contents of the file\n",
        "# This will show you the available trees\n",
        "f.ls()\n",
        "\n",
        "# Load the correct tree\n",
        "tree_name = 'mini'\n",
        "tree = f.Get(tree_name)\n",
        "print(f\"The loaded tree '{tree_name}' contains {tree.GetEntries()} events\")"
      ]
    },
    {
      "cell_type": "markdown",
      "metadata": {
        "id": "Q5CWbwEMlvDj"
      },
      "source": [
        "### Funktion för invariant massa\n",
        "_________________________________________"
      ]
    },
    {
      "cell_type": "code",
      "execution_count": 29,
      "metadata": {
        "id": "VIvoKbX3lvDk"
      },
      "outputs": [],
      "source": [
        "def getInvMass(lep1_pt, lep2_pt, lep1_eta, lep2_eta, lep1_phi, lep2_phi):\n",
        "    ''' compute the invariant mass using the formula from the Introduction notebook (assume massless particles)'''\n",
        "    m_squared = 2*lep1_pt*lep2_pt*(math.cosh(lep1_eta-lep2_eta) - math.cos(lep1_phi-lep2_phi))\n",
        "    return math.sqrt(m_squared)"
      ]
    },
    {
      "cell_type": "markdown",
      "metadata": {
        "id": "cAphKIOWlvDk"
      },
      "source": [
        "### Förbered histogram\n",
        "_______________________________"
      ]
    },
    {
      "cell_type": "code",
      "execution_count": 302,
      "metadata": {
        "id": "pyfVBSjrlvDk",
        "outputId": "663b9cf8-d1a3-4d0c-abe6-1f0c78aea9a6",
        "colab": {
          "base_uri": "https://localhost:8080/"
        }
      },
      "outputs": [
        {
          "output_type": "stream",
          "name": "stderr",
          "text": [
            "Warning in <TNetXNGFile::Append>: Replacing existing TH1: h_mass (Potential memory leak).\n"
          ]
        }
      ],
      "source": [
        "# create histogram for invariant mass with the desired number of bins and range\n",
        "nBins = 200\n",
        "lowerEdge = 70\n",
        "upperEdge = 110\n",
        "\n",
        "h_mass = ROOT.TH1F(\"h_mass\", \"Dilepton mass; Invariant mass [GeV]; Number of events\", nBins, lowerEdge, upperEdge)\n"
      ]
    },
    {
      "cell_type": "markdown",
      "metadata": {
        "id": "8oRsPhXxlvDk"
      },
      "source": [
        "### Kör event-loopen, hitta elektron-positron/myon-antimyon-par, räkna ut invarianta massan, fyll histogram. Ni tittar på data, så alla händelser innehåller inte en $Z$-boson. Vilka krav/snitt bör ni göra i data för att hitta så \"$Z$-lika\" händelser som möjligt? Titta i notebook 1 för att se vilka variabler som finns tillgängliga.\n",
        "___________________________________________"
      ]
    },
    {
      "cell_type": "code",
      "execution_count": 280,
      "metadata": {
        "id": "goJN73JNlvDl",
        "outputId": "6b32ccb6-6680-42f4-d02f-1f2c5db9a786",
        "colab": {
          "base_uri": "https://localhost:8080/"
        }
      },
      "outputs": [
        {
          "output_type": "stream",
          "name": "stderr",
          "text": [
            "7917590it [15:03, 8765.96it/s] \n"
          ]
        }
      ],
      "source": [
        "\n",
        "masses = []\n",
        "i = 0\n",
        "for evt in tqdm.tqdm(tree):\n",
        "    if evt.lep_n == 2 and evt.lep_type[0] == evt.lep_type[1]:\n",
        "      if evt.lep_type[0] in [11,13]:\n",
        "        masses.append(getInvMass(evt.lep_pt[0],evt.lep_pt[1],evt.lep_eta[0],evt.lep_eta[1],evt.lep_phi[0],evt.lep_phi[1]) * 1e-3)\n",
        "np_data = np.array(masses)"
      ]
    },
    {
      "cell_type": "markdown",
      "metadata": {
        "id": "qoUV-SNTlvDl"
      },
      "source": [
        "**Tips:** För att arbeta mer effektivt, inför ett stoppkriterium så att ni under utveckligen använder ett mindre antal händelser (att köra över all data tar lång tid). När ni sedan är nöjda kan ni köra över fler händelser."
      ]
    },
    {
      "cell_type": "markdown",
      "metadata": {
        "id": "idFlizj2lvDl"
      },
      "source": [
        "### Rita den erhållna distributionen över den invarianta massan för leptonparen. Ser ni $Z$-toppen?\n"
      ]
    },
    {
      "cell_type": "code",
      "execution_count": 303,
      "metadata": {
        "id": "y3JQEea1lvDl",
        "outputId": "ecd03178-bfa6-4732-e259-9e1d0b062361",
        "colab": {
          "base_uri": "https://localhost:8080/",
          "height": 507
        }
      },
      "outputs": [
        {
          "output_type": "stream",
          "name": "stderr",
          "text": [
            "Warning in <TNetXNGFile::Append>: Replacing existing TH1: h_mass (Potential memory leak).\n"
          ]
        },
        {
          "output_type": "display_data",
          "data": {
            "image/png": "[encoded data removed]",
            "text/plain": [
              "<IPython.core.display.Image object>"
            ]
          },
          "metadata": {}
        }
      ],
      "source": [
        "h_mass = ROOT.TH1F(\"h_mass\", \"Dilepton mass; Invariant mass [GeV]; Number of events\", nBins, lowerEdge, upperEdge)\n",
        "h_mass.Fill(np_data)\n",
        "canvas = ROOT.TCanvas()\n",
        "h_mass.Draw()\n",
        "canvas.Draw()"
      ]
    },
    {
      "cell_type": "markdown",
      "metadata": {
        "id": "SbJnZixKlvDm"
      },
      "source": [
        "### Gör anpassning för att kunna hitta centralvärdet, dvs det mest sannolika värdet. Vilken funktion ska anpassas? Behövs en summa av en modell som beskriver signalen ni söker ($Z$-bosoner) och en modell som beskriver bakgrunden? Prova er fram med olika funktioner och intervall för anpassningen. Titta på notebook [2-Fitting-with-ROOT](2-Fitting-with-ROOT.ipynb) igen för tips och hjälp.\n",
        "____________________________________________________"
      ]
    },
    {
      "cell_type": "markdown",
      "metadata": {
        "id": "Ssyjf301lvDm"
      },
      "source": [
        "**Tips:** Titta på dessa länkar för tips på en bra funktion att använda:\n",
        "* Lite bakgrundsinformation om sk resonanspartiklar ($Z$-bosonen är en sådan): [Wikipedia](https://en.wikipedia.org/wiki/Resonance_(particle_physics))\n",
        "* Funktioner som finns implementerade i ROOTs [TMath-klass](https://root.cern.ch/doc/master/namespaceTMath.html#a5dbbb839fede023ba8f1aece82cdbd7a)\n",
        "\n",
        "**Ett ytterligare tips**: se till att funktionen ni anpassar har en parameter som tillåter att funktionen kan skalas till distributionen gjord ifrån datan - annars kommer datorns möjligheter att få funktionen att passa mätdatan bero på hur många events ni loopat över, och det är bara *formen* på distributionen vi vill åt!"
      ]
    },
    {
      "cell_type": "code",
      "execution_count": 322,
      "metadata": {
        "id": "vCqZ6u-olvDn"
      },
      "outputs": [],
      "source": [
        "# declare function for the model you want to fit to the data\n",
        "func5 = ROOT.TF1(\"functionName\", '[0]*TMath::BreitWigner(x,[1],[2]) + [3]*exp([4] + [5]*x) + [6]*TMath::BreitWignerRelativistic(x, [7],[8])', 20, 200)\n",
        "func1 = ROOT.TF1(\"functionName\", '[0]*TMath::BreitWignerRelativistic(x,[1],[2]) + [3]*exp([4] + [5]*x)', 20, 200)\n",
        "func4 = ROOT.TF1(\"functionName\", '[0]*TMath::BreitWignerRelativistic(x,[1],[2])', 70, 110)\n",
        "\n",
        "\n",
        "breit = ROOT.TF1(\"breit\", \"[0]*TMath::BreitWigner(x,[mean],[gamma])\")\n",
        "func2 = ROOT.TF1(\"functionName\", 'expo', 50, 150)\n",
        "\n",
        "func1.SetParameter(0, 2000)     # Gaussian amplitude (from your data ~900)\n",
        "func1.SetParameter(1, 90)\n",
        "func1.SetParameter(2, 83)\n",
        "func1.SetParameter(3, 5)\n",
        "\n",
        "func5.SetParameter(6,100)\n",
        "func5.SetParLimits(6,100,900)\n",
        "func5.SetParameter(7,2)\n",
        "\n",
        "func4.SetParameter(0, 5000)     # Gaussian amplitude (from your data ~900)\n",
        "func4.SetParameter(1, 90)\n",
        "func4.SetParameter(2, 83)\n",
        "\n",
        "\n",
        "\n",
        "# Voigt = Breit-Wigner ⊗ Gaussian (natural width ⊗ detector resolution)\n",
        "voigt = ROOT.TF1(\"voigt_fit\", \"[0]*TMath::Voigt(x-[1], [2], [3]) + [4] + [5]*x\", 60, 120)\n",
        "\n",
        "voigt.SetParameter(0, 8500)    # Voigt amplitude\n",
        "voigt.SetParameter(1, 77)      # Peak position\n",
        "voigt.SetParameter(2, 3)       # Gaussian sigma (detector resolution)\n",
        "voigt.SetParameter(3, 2.5)     # Lorentzian gamma (natural width)\n",
        "voigt.SetParameter(4, 200)     # Background constant\n",
        "voigt.SetParameter(5, -1)      # Background slope\n",
        "\n"
      ]
    },
    {
      "cell_type": "code",
      "execution_count": 323,
      "metadata": {
        "id": "wvaz4uYglvDn",
        "outputId": "6e5d298f-3cb6-43ff-d9c7-71c99cfbb189",
        "colab": {
          "base_uri": "https://localhost:8080/",
          "height": 709
        }
      },
      "outputs": [
        {
          "output_type": "stream",
          "name": "stdout",
          "text": [
            "****************************************\n",
            "Minimizer is Minuit2 / Migrad\n",
            "Chi2                      =      6497.46\n",
            "NDf                       =          194\n",
            "Edm                       =  2.54332e-07\n",
            "NCalls                    =          596\n",
            "p0                        =      67963.6   +/-   152.873     \n",
            "p1                        =      89.8487   +/-   0.00763173  \n",
            "p2                        =      5.83344   +/-   0.0178566   \n",
            "p3                        =     -220.359   +/-   38.4479     \n",
            "p4                        =     -3.88636   +/-   0.193656    \n",
            "p5                        =    0.0292113   +/-   0.00126391  \n"
          ]
        },
        {
          "output_type": "display_data",
          "data": {
            "image/png": "[encoded data removed]",
            "text/plain": [
              "<IPython.core.display.Image object>"
            ]
          },
          "metadata": {}
        }
      ],
      "source": [
        "h_mass.Fit(func1, \"S\")\n",
        "canvas.Draw()"
      ]
    },
    {
      "cell_type": "markdown",
      "metadata": {
        "id": "8hBOOIFrlvDn"
      },
      "source": [
        "#### Rapportskrivning\n",
        "\n",
        "Läs nu igenom instruktionerna för rapportskrivningen noggrant i [4-LabReport](4-LabReport.ipynb)."
      ]
    }
  ],
  "metadata": {
    "kernelspec": {
      "display_name": "Python 3",
      "language": "python",
      "name": "python3"
    },
    "language_info": {
      "codemirror_mode": {
        "name": "ipython",
        "version": 3
      },
      "file_extension": ".py",
      "mimetype": "text/x-python",
      "name": "python",
      "nbconvert_exporter": "python",
      "pygments_lexer": "ipython3",
      "version": "3.6.6"
    },
    "colab": {
      "provenance": []
    }
  },
  "nbformat": 4,
  "nbformat_minor": 0
}